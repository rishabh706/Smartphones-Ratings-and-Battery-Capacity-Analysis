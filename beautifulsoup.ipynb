{
 "cells": [
  {
   "cell_type": "code",
   "execution_count": 1,
   "metadata": {},
   "outputs": [
    {
     "name": "stdout",
     "output_type": "stream",
     "text": [
      "Requirement already satisfied: beautifulsoup4 in c:\\users\\rishabh rahatgaonkar\\miniconda3\\lib\\site-packages (4.8.2)\n",
      "Requirement already satisfied: soupsieve>=1.2 in c:\\users\\rishabh rahatgaonkar\\miniconda3\\lib\\site-packages (from beautifulsoup4) (1.9.5)\n"
     ]
    }
   ],
   "source": [
    "!pip install beautifulsoup4"
   ]
  },
  {
   "cell_type": "code",
   "execution_count": 2,
   "metadata": {},
   "outputs": [],
   "source": [
    "# Importing the Libraries\n",
    "from urllib.request import Request, urlopen\n",
    "from bs4 import BeautifulSoup as BS\n",
    "import pandas as pd\n",
    "from urllib.parse import urlparse, urlsplit\n",
    "import re\n",
    "import pandas as pd"
   ]
  },
  {
   "cell_type": "code",
   "execution_count": 3,
   "metadata": {},
   "outputs": [],
   "source": [
    "req = Request('https://www.flipkart.com/search?q=mobiles&otracker=search&otracker1=search&marketplace=FLIPKART&as-show=on&as=off&as-pos=0&as-type=HISTORY&as-backfill=on',headers={'User-Agent': 'Chrome/5.0'})\n",
    "page = urlopen(req)"
   ]
  },
  {
   "cell_type": "code",
   "execution_count": 4,
   "metadata": {},
   "outputs": [],
   "source": [
    "soup = BS(page)"
   ]
  },
  {
   "cell_type": "code",
   "execution_count": null,
   "metadata": {},
   "outputs": [],
   "source": [
    "print(soup.prettify())"
   ]
  },
  {
   "cell_type": "code",
   "execution_count": 6,
   "metadata": {},
   "outputs": [],
   "source": [
    "title_links = soup.find_all('div',{'class':'_3wU53n'})"
   ]
  },
  {
   "cell_type": "code",
   "execution_count": 7,
   "metadata": {},
   "outputs": [
    {
     "data": {
      "text/plain": [
       "[<div class=\"_3wU53n\">Redmi 8 (Sapphire Blue, 64 GB)</div>,\n",
       " <div class=\"_3wU53n\">Redmi 8 (Onyx Black, 64 GB)</div>,\n",
       " <div class=\"_3wU53n\">Redmi 8 (Emerald Green, 64 GB)</div>,\n",
       " <div class=\"_3wU53n\">Redmi 8 (Ruby Red, 64 GB)</div>,\n",
       " <div class=\"_3wU53n\">Realme 5s (Crystal Blue, 64 GB)</div>,\n",
       " <div class=\"_3wU53n\">Apple iPhone 7 (Black, 32 GB)</div>,\n",
       " <div class=\"_3wU53n\">Realme 5s (Crystal Blue, 128 GB)</div>,\n",
       " <div class=\"_3wU53n\">Realme C2 (Diamond Ruby, 32 GB)</div>,\n",
       " <div class=\"_3wU53n\">Realme C2 (Diamond Blue, 32 GB)</div>,\n",
       " <div class=\"_3wU53n\">Realme C2 (Diamond Black, 32 GB)</div>,\n",
       " <div class=\"_3wU53n\">Realme C2 (Diamond Sapphire, 32 GB)</div>,\n",
       " <div class=\"_3wU53n\">Realme 5s (Crystal Purple, 128 GB)</div>,\n",
       " <div class=\"_3wU53n\">Infinix Hot 8 (Shark Grey, 64 GB)</div>,\n",
       " <div class=\"_3wU53n\">I Kall K900 (Sky Blue, 64 GB)</div>,\n",
       " <div class=\"_3wU53n\">Realme 5s (Crystal Purple, 64 GB)</div>,\n",
       " <div class=\"_3wU53n\">Redmi Note 7 Pro (Neptune Blue, 64 GB)</div>,\n",
       " <div class=\"_3wU53n\">Realme C2 (Diamond Blue, 32 GB)</div>,\n",
       " <div class=\"_3wU53n\">Redmi 8A (Ocean Blue, 32 GB)</div>,\n",
       " <div class=\"_3wU53n\">Apple iPhone 7 (Rose Gold, 32 GB)</div>,\n",
       " <div class=\"_3wU53n\">I Kall K9 (Blue, 16 GB)</div>,\n",
       " <div class=\"_3wU53n\">Infinix Hot 8 (Quetzal Cyan, 64 GB)</div>,\n",
       " <div class=\"_3wU53n\">Infinix Hot 8 (Cosmic Purple, 64 GB)</div>,\n",
       " <div class=\"_3wU53n\">Redmi 7A (Matte Blue, 32 GB)</div>,\n",
       " <div class=\"_3wU53n\">I Kall K900 (Dark Blue, 64 GB)</div>]"
      ]
     },
     "execution_count": 7,
     "metadata": {},
     "output_type": "execute_result"
    }
   ],
   "source": [
    "title_links"
   ]
  },
  {
   "cell_type": "code",
   "execution_count": 17,
   "metadata": {},
   "outputs": [],
   "source": [
    "# Extracting the titles\n",
    "titles = [x.text for x in soup.find_all('div',{'class':'_3wU53n'})]\n",
    "\n",
    "# Extracting the user Ratings\n",
    "user_ratings=[x.text for x in soup.find_all('div',{'class':'hGSR34'})]\n",
    "\n",
    "# Extracting the Battery Capacity\n",
    "battery_capacity=[x.text for x in soup.find_all('li',{'class':'tVe95H'})]\n",
    "\n",
    "subs='Battery'\n",
    "battery_capacity = [x for x in battery_capacity if re.search(subs, x)]\n",
    "\n",
    "# Extracting numbers from the list of strings\n",
    "battery_capacity = list(map(lambda sub:int(''.join( \n",
    "      [ele for ele in sub if ele.isnumeric()])), battery_capacity))"
   ]
  },
  {
   "cell_type": "code",
   "execution_count": 20,
   "metadata": {},
   "outputs": [
    {
     "data": {
      "text/plain": [
       "['Redmi 8 (Sapphire Blue, 64 GB)',\n",
       " 'Redmi 8 (Onyx Black, 64 GB)',\n",
       " 'Redmi 8 (Emerald Green, 64 GB)',\n",
       " 'Redmi 8 (Ruby Red, 64 GB)',\n",
       " 'Realme 5s (Crystal Blue, 64 GB)',\n",
       " 'Apple iPhone 7 (Black, 32 GB)',\n",
       " 'Realme 5s (Crystal Blue, 128 GB)',\n",
       " 'Realme C2 (Diamond Ruby, 32 GB)',\n",
       " 'Realme C2 (Diamond Blue, 32 GB)',\n",
       " 'Realme C2 (Diamond Black, 32 GB)',\n",
       " 'Realme C2 (Diamond Sapphire, 32 GB)',\n",
       " 'Realme 5s (Crystal Purple, 128 GB)',\n",
       " 'Infinix Hot 8 (Shark Grey, 64 GB)',\n",
       " 'I Kall K900 (Sky Blue, 64 GB)',\n",
       " 'Realme 5s (Crystal Purple, 64 GB)',\n",
       " 'Redmi Note 7 Pro (Neptune Blue, 64 GB)',\n",
       " 'Realme C2 (Diamond Blue, 32 GB)',\n",
       " 'Redmi 8A (Ocean Blue, 32 GB)',\n",
       " 'Apple iPhone 7 (Rose Gold, 32 GB)',\n",
       " 'I Kall K9 (Blue, 16 GB)',\n",
       " 'Infinix Hot 8 (Quetzal Cyan, 64 GB)',\n",
       " 'Infinix Hot 8 (Cosmic Purple, 64 GB)',\n",
       " 'Redmi 7A (Matte Blue, 32 GB)',\n",
       " 'I Kall K900 (Dark Blue, 64 GB)']"
      ]
     },
     "execution_count": 20,
     "metadata": {},
     "output_type": "execute_result"
    }
   ],
   "source": [
    "titles"
   ]
  },
  {
   "cell_type": "code",
   "execution_count": 21,
   "metadata": {},
   "outputs": [],
   "source": [
    "# Creating DataFrame\n",
    "dataset=pd.DataFrame(list(zip(titles, user_ratings, battery_capacity)),\n",
    "              columns=['Titles','Ratings', 'Battery Capacity'])"
   ]
  },
  {
   "cell_type": "code",
   "execution_count": null,
   "metadata": {},
   "outputs": [],
   "source": []
  },
  {
   "cell_type": "code",
   "execution_count": 23,
   "metadata": {},
   "outputs": [],
   "source": [
    "# Saving the dataFrame into the CSV File\n",
    "dataset.to_csv('Smartphones Data Analysis.csv',sep='\\t',encoding='utf-8')"
   ]
  },
  {
   "cell_type": "code",
   "execution_count": null,
   "metadata": {},
   "outputs": [],
   "source": []
  },
  {
   "cell_type": "code",
   "execution_count": null,
   "metadata": {},
   "outputs": [],
   "source": []
  }
 ],
 "metadata": {
  "kernelspec": {
   "display_name": "Python 3",
   "language": "python",
   "name": "python3"
  },
  "language_info": {
   "codemirror_mode": {
    "name": "ipython",
    "version": 3
   },
   "file_extension": ".py",
   "mimetype": "text/x-python",
   "name": "python",
   "nbconvert_exporter": "python",
   "pygments_lexer": "ipython3",
   "version": "3.7.3"
  }
 },
 "nbformat": 4,
 "nbformat_minor": 2
}
